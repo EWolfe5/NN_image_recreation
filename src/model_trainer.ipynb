{
 "cells": [
  {
   "cell_type": "code",
   "execution_count": 1,
   "metadata": {},
   "outputs": [],
   "source": [
    "import torch\n",
    "import torch.nn as nn\n",
    "\n",
    "import numpy as np\n",
    "import matplotlib.pyplot as plt"
   ]
  },
  {
   "cell_type": "code",
   "execution_count": null,
   "metadata": {},
   "outputs": [],
   "source": [
    "class Trainer():\n",
    "    \"\"\"\n",
    "        W.I.P...\n",
    "    \"\"\"\n",
    "    def __init__(self, model, optimizer, criterion, epochs=50):\n",
    "        \"\"\"\n",
    "        Parameters\n",
    "        ----------\n",
    "        model       : pytorch module\n",
    "            pytorch NN model\n",
    "        optimizer   : pytorch optimizer\n",
    "            pytorch optimizer object\n",
    "        criterion       : object\n",
    "            weight and biases logger\n",
    "        \"\"\"\n",
    "        self.model = model\n",
    "        self.opt = optimizer\n",
    "        self.train_loss = {'Loss': []}\n",
    "        self.test_loss = {'Loss': []}\n",
    "        self.epochs = epochs\n",
    "        \n",
    "    def _loss(self, y, yhat, train=True, ep=0):\n",
    "        \"\"\"Evaluates loss function and add reports to the logger.\n",
    "        \n",
    "        Parameters\n",
    "        ----------\n",
    "        y      : tensor\n",
    "            tensor of real values\n",
    "        yhat   : tensor\n",
    "            tensor of predicted values\n",
    "        train  : bool\n",
    "            wheather is training step or not\n",
    "        ep     : int\n",
    "            epoch value of training loop\n",
    "        Returns\n",
    "        -------\n",
    "        loss\n",
    "            loss value\n",
    "        \"\"\"\n",
    "        loss = self.criterion(yhat, y)\n",
    "\n",
    "        if train:\n",
    "            self.train_loss['Loss'].append(loss.item())\n",
    "        else:\n",
    "            self.test_loss['Loss'].append(loss.item())\n",
    "\n",
    "        return loss\n",
    "    \n",
    "    "
   ]
  }
 ],
 "metadata": {
  "kernelspec": {
   "display_name": "Python 3",
   "language": "python",
   "name": "python3"
  },
  "language_info": {
   "codemirror_mode": {
    "name": "ipython",
    "version": 3
   },
   "file_extension": ".py",
   "mimetype": "text/x-python",
   "name": "python",
   "nbconvert_exporter": "python",
   "pygments_lexer": "ipython3",
   "version": "3.8.5"
  }
 },
 "nbformat": 4,
 "nbformat_minor": 4
}
